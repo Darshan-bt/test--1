{
 "cells": [
  {
   "cell_type": "markdown",
   "id": "31acc17f-fdfc-4257-af42-5108208b954a",
   "metadata": {},
   "source": [
    "### Test"
   ]
  },
  {
   "cell_type": "markdown",
   "id": "e53ba6d0-2472-461b-a1f9-93b2ecbc9dbe",
   "metadata": {},
   "source": [
    "#### 1.find the 2nd largest and 2nd smallest element in a list."
   ]
  },
  {
   "cell_type": "code",
   "execution_count": 3,
   "id": "e5a0dc4f-6cee-4ef1-94a5-00e90af89ab6",
   "metadata": {},
   "outputs": [
    {
     "name": "stdout",
     "output_type": "stream",
     "text": [
      "Second Smallest: 12\n",
      "Second Largest: 15\n"
     ]
    }
   ],
   "source": [
    "l1 = [11,12,13,15,20]\n",
    "print(\"Second Smallest:\", l1[1])\n",
    "print(\"Second Largest:\", l1[-2])"
   ]
  },
  {
   "cell_type": "markdown",
   "id": "71e25fa5-94de-4014-8f82-50f56596b984",
   "metadata": {},
   "source": [
    "#### 2.find the key with the largest value in a dictionary."
   ]
  },
  {
   "cell_type": "code",
   "execution_count": 4,
   "id": "beb58d95-51ac-45c9-8026-e96f3977a1fc",
   "metadata": {},
   "outputs": [
    {
     "name": "stdout",
     "output_type": "stream",
     "text": [
      "darshan\n"
     ]
    }
   ],
   "source": [
    "d ={\"darshan\":21, \"piyush\":20, \"kaiwalya\":19}\n",
    "print(max(d,key = d.get))"
   ]
  },
  {
   "cell_type": "markdown",
   "id": "fab06f3d-3459-4378-940d-69ea5a3fffeb",
   "metadata": {},
   "source": [
    "#### 3.Create a new folder using os module and create a file inside it.f"
   ]
  },
  {
   "cell_type": "code",
   "execution_count": 8,
   "id": "8b1e7456-efc8-4cbc-ad88-b7fe5e90cb22",
   "metadata": {},
   "outputs": [
    {
     "name": "stdout",
     "output_type": "stream",
     "text": [
      "I am giving my first python test in the class\n"
     ]
    }
   ],
   "source": [
    "import os \n",
    "\n",
    "os.mkdir(\"newfolder2\")\n",
    "f = open(\"newfolder2/newfile.txt\", \"w\")\n",
    "f.write(\"my file is inside newfolder2\")\n",
    "f.close()\n",
    "print(\"I am giving my first python test in the class\")"
   ]
  },
  {
   "cell_type": "code",
   "execution_count": null,
   "id": "96b28ce2-0950-4c46-91ad-bb9a3b68341a",
   "metadata": {},
   "outputs": [],
   "source": []
  },
  {
   "cell_type": "code",
   "execution_count": null,
   "id": "e072ab01-05a5-40c7-a346-b2773723b4b9",
   "metadata": {},
   "outputs": [],
   "source": []
  },
  {
   "cell_type": "code",
   "execution_count": null,
   "id": "37c96282-9332-465f-b7b7-9313ae34fbad",
   "metadata": {},
   "outputs": [],
   "source": []
  },
  {
   "cell_type": "markdown",
   "id": "06522d14-c345-41c6-9dc9-179814af8365",
   "metadata": {},
   "source": [
    "#### 5.use a lambda with map() to convert a list of integer into their cubes."
   ]
  },
  {
   "cell_type": "code",
   "execution_count": 5,
   "id": "40ac494b-c9b9-4fc5-92ef-e74e11e8a954",
   "metadata": {},
   "outputs": [
    {
     "data": {
      "text/plain": [
       "[1331, 1728, 8000, 2744]"
      ]
     },
     "execution_count": 5,
     "metadata": {},
     "output_type": "execute_result"
    }
   ],
   "source": [
    "number = [11,12,20,14]\n",
    "\n",
    "list(map(lambda x: x**3, number))"
   ]
  },
  {
   "cell_type": "code",
   "execution_count": null,
   "id": "f8c478db-fb3e-40be-a8c4-5eea2777bdd7",
   "metadata": {},
   "outputs": [],
   "source": []
  },
  {
   "cell_type": "code",
   "execution_count": null,
   "id": "5e15928d-ce5f-4cc8-9f91-eb52aafe5710",
   "metadata": {},
   "outputs": [],
   "source": []
  },
  {
   "cell_type": "code",
   "execution_count": null,
   "id": "96dd490f-0de4-47cf-a896-0e845289ee7f",
   "metadata": {},
   "outputs": [],
   "source": []
  },
  {
   "cell_type": "code",
   "execution_count": null,
   "id": "cb850d03-1efb-4626-a543-a29b7d1ce433",
   "metadata": {},
   "outputs": [],
   "source": []
  }
 ],
 "metadata": {
  "kernelspec": {
   "display_name": "Python 3 (ipykernel)",
   "language": "python",
   "name": "python3"
  },
  "language_info": {
   "codemirror_mode": {
    "name": "ipython",
    "version": 3
   },
   "file_extension": ".py",
   "mimetype": "text/x-python",
   "name": "python",
   "nbconvert_exporter": "python",
   "pygments_lexer": "ipython3",
   "version": "3.13.5"
  }
 },
 "nbformat": 4,
 "nbformat_minor": 5
}
